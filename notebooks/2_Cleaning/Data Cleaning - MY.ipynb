{
 "cells": [
  {
   "cell_type": "markdown",
   "metadata": {
    "collapsed": true
   },
   "source": [
    "<h1><center> Our goal (tidy) </center></h1>"
   ]
  },
  {
   "cell_type": "markdown",
   "metadata": {
    "collapsed": true
   },
   "source": [
    "|| country | year   | week | disease   | cases   | region   |\n",
    "|------|------|------|------|------|------|\n",
    "|<b>0</b>|   Malaysia  | 2016|1   |Dengue Fever|2    |PERLIS|\n",
    "|<b>1</b>|   Malaysia  | 2016|2   |Dengue Fever|5    |KEDAH|\n",
    "|...|   ...  | ...|...  |... |...   |...|"
   ]
  },
  {
   "cell_type": "markdown",
   "metadata": {
    "collapsed": true
   },
   "source": [
    "<h1><center> What we have (Malaysia)</center></h1>"
   ]
  },
  {
   "cell_type": "code",
   "execution_count": null,
   "metadata": {},
   "outputs": [],
   "source": [
    "import pandas as pd"
   ]
  },
  {
   "cell_type": "code",
   "execution_count": null,
   "metadata": {},
   "outputs": [],
   "source": [
    "file_path = \"./../../data/1_raw/MY_dengue.xlsx\"\n",
    "xls_file = pd.ExcelFile(file_path)\n",
    "df = xls_file.parse()\n",
    "df.head(20)"
   ]
  },
  {
   "cell_type": "code",
   "execution_count": null,
   "metadata": {},
   "outputs": [],
   "source": [
    "# DataFrame slice parameters\n",
    "SKIPROWS = 1\n",
    "SKIP_FOOTER = 110\n",
    "PARSE_COLS = 52\n",
    "df = pd.read_excel(file_path, na_values=\"na\", skiprows=SKIPROWS, skip_footer=SKIP_FOOTER, parse_cols=PARSE_COLS)\n",
    "df.head()"
   ]
  },
  {
   "cell_type": "markdown",
   "metadata": {},
   "source": [
    "<h1><center>What is melt?</center></h1>"
   ]
  },
  {
   "cell_type": "code",
   "execution_count": null,
   "metadata": {},
   "outputs": [],
   "source": [
    "# Melt transform wide dataframe into tall dataframe. Melting is reshaping.\n",
    "melt_example_df = pd.DataFrame(data={'Student': ['Sarah', 'Ben'], \n",
    "                                     'Biology': ['A', 'B'], \n",
    "                                     'Math':['C', 'A'], \n",
    "                                     'Physics':['B', 'A']})\n",
    "melt_example_df = melt_example_df[['Student', 'Biology', 'Math', 'Physics']]\n",
    "melt_example_df.head()"
   ]
  },
  {
   "cell_type": "code",
   "execution_count": null,
   "metadata": {},
   "outputs": [],
   "source": [
    "melt_example_df = pd.melt(melt_example_df, var_name='Subject', value_name='Grade', id_vars='Student')\n",
    "melt_example_df.head()"
   ]
  },
  {
   "cell_type": "markdown",
   "metadata": {},
   "source": [
    "<h1><center>Back to Malaysia dataframe</center></h1>"
   ]
  },
  {
   "cell_type": "code",
   "execution_count": null,
   "metadata": {},
   "outputs": [],
   "source": [
    "df.head()"
   ]
  },
  {
   "cell_type": "code",
   "execution_count": null,
   "metadata": {},
   "outputs": [],
   "source": [
    "df = pd.melt(df, var_name='week', value_name='cases', id_vars='NEGERI')\n",
    "df.head()"
   ]
  },
  {
   "cell_type": "code",
   "execution_count": null,
   "metadata": {},
   "outputs": [],
   "source": [
    "df.dropna(inplace=True)\n",
    "df.head()"
   ]
  },
  {
   "cell_type": "code",
   "execution_count": null,
   "metadata": {},
   "outputs": [],
   "source": [
    "df.reset_index(drop=True, inplace=True)\n",
    "df.head()"
   ]
  },
  {
   "cell_type": "code",
   "execution_count": null,
   "metadata": {},
   "outputs": [],
   "source": [
    "df['year'] = 2010\n",
    "df['country'] = 'Malaysia'\n",
    "df['disease'] = \"Dengue Fever\"\n",
    "df.head()"
   ]
  },
  {
   "cell_type": "code",
   "execution_count": null,
   "metadata": {},
   "outputs": [],
   "source": [
    "df['week'] = df['week'].apply(lambda x: x.strip()).str[-2:].astype(int)\n",
    "df.head()"
   ]
  },
  {
   "cell_type": "code",
   "execution_count": null,
   "metadata": {},
   "outputs": [],
   "source": [
    "df.rename(columns={'NEGERI': 'region'}, inplace=True)\n",
    "df.head()"
   ]
  },
  {
   "cell_type": "code",
   "execution_count": null,
   "metadata": {
    "collapsed": true
   },
   "outputs": [],
   "source": [
    "df.to_csv(\"./../../data/2_clean/MY_dengue.csv\")"
   ]
  },
  {
   "cell_type": "code",
   "execution_count": null,
   "metadata": {
    "collapsed": true
   },
   "outputs": [],
   "source": []
  }
 ],
 "metadata": {
  "kernelspec": {
   "display_name": "Python 3",
   "language": "python",
   "name": "python3"
  },
  "language_info": {
   "codemirror_mode": {
    "name": "ipython",
    "version": 3
   },
   "file_extension": ".py",
   "mimetype": "text/x-python",
   "name": "python",
   "nbconvert_exporter": "python",
   "pygments_lexer": "ipython3",
   "version": "3.6.3"
  }
 },
 "nbformat": 4,
 "nbformat_minor": 2
}
