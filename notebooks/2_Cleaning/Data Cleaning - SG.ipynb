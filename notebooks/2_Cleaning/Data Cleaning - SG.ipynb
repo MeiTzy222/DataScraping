{
 "cells": [
  {
   "cell_type": "markdown",
   "metadata": {
    "collapsed": true
   },
   "source": [
    "<h1><center> Our goal (tidy)</center></h1>\n",
    "   "
   ]
  },
  {
   "cell_type": "markdown",
   "metadata": {},
   "source": [
    "|| country | year   | week | disease   | cases   |\n",
    "|------|------|------|------|------|------|\n",
    "|<b>0</b>|   Singapore  | 2015|1   |Dengue Fever|3    |\n",
    "|<b>1</b>|   Singapore  | 2015|2   |Malaria|0    |\n",
    "|...|   ...  | ...|...  |... |...   |"
   ]
  },
  {
   "cell_type": "markdown",
   "metadata": {
    "collapsed": true
   },
   "source": [
    "<h1><center> What we have (raw)</center></h1>"
   ]
  },
  {
   "cell_type": "code",
   "execution_count": 24,
   "metadata": {
    "collapsed": true
   },
   "outputs": [],
   "source": [
    "import pandas as pd"
   ]
  },
  {
   "cell_type": "code",
   "execution_count": 23,
   "metadata": {
    "scrolled": true
   },
   "outputs": [
    {
     "data": {
      "text/html": [
       "<div>\n",
       "<style>\n",
       "    .dataframe thead tr:only-child th {\n",
       "        text-align: right;\n",
       "    }\n",
       "\n",
       "    .dataframe thead th {\n",
       "        text-align: left;\n",
       "    }\n",
       "\n",
       "    .dataframe tbody tr th {\n",
       "        vertical-align: top;\n",
       "    }\n",
       "</style>\n",
       "<table border=\"1\" class=\"dataframe\">\n",
       "  <thead>\n",
       "    <tr style=\"text-align: right;\">\n",
       "      <th></th>\n",
       "      <th>year_week</th>\n",
       "      <th>disease</th>\n",
       "      <th>cases</th>\n",
       "    </tr>\n",
       "  </thead>\n",
       "  <tbody>\n",
       "    <tr>\n",
       "      <th>0</th>\n",
       "      <td>2012-W09</td>\n",
       "      <td>Dengue Haemorrhagic Fever</td>\n",
       "      <td>0</td>\n",
       "    </tr>\n",
       "    <tr>\n",
       "      <th>1</th>\n",
       "      <td>2012-W09</td>\n",
       "      <td>Malaria</td>\n",
       "      <td>0</td>\n",
       "    </tr>\n",
       "    <tr>\n",
       "      <th>2</th>\n",
       "      <td>2012-W10</td>\n",
       "      <td>Dengue Fever</td>\n",
       "      <td>45</td>\n",
       "    </tr>\n",
       "    <tr>\n",
       "      <th>3</th>\n",
       "      <td>2012-W10</td>\n",
       "      <td>Dengue Haemorrhagic Fever</td>\n",
       "      <td>1</td>\n",
       "    </tr>\n",
       "    <tr>\n",
       "      <th>4</th>\n",
       "      <td>2012-W10</td>\n",
       "      <td>Malaria</td>\n",
       "      <td>4</td>\n",
       "    </tr>\n",
       "  </tbody>\n",
       "</table>\n",
       "</div>"
      ],
      "text/plain": [
       "  year_week                    disease  cases\n",
       "0  2012-W09  Dengue Haemorrhagic Fever      0\n",
       "1  2012-W09                    Malaria      0\n",
       "2  2012-W10               Dengue Fever     45\n",
       "3  2012-W10  Dengue Haemorrhagic Fever      1\n",
       "4  2012-W10                    Malaria      4"
      ]
     },
     "execution_count": 23,
     "metadata": {},
     "output_type": "execute_result"
    }
   ],
   "source": [
    "df = pd.read_csv(\"./../../data/2_clean/in/weekly-dengue-malaria.csv\", names=['year_week', 'disease', 'cases'], header=0)\n",
    "df.head()"
   ]
  },
  {
   "cell_type": "markdown",
   "metadata": {},
   "source": [
    "<h1><center>Cleaning steps</center><h1>"
   ]
  },
  {
   "cell_type": "code",
   "execution_count": 17,
   "metadata": {
    "collapsed": false,
    "scrolled": true
   },
   "outputs": [
    {
     "data": {
      "text/html": [
       "<div>\n",
       "<style>\n",
       "    .dataframe thead tr:only-child th {\n",
       "        text-align: right;\n",
       "    }\n",
       "\n",
       "    .dataframe thead th {\n",
       "        text-align: left;\n",
       "    }\n",
       "\n",
       "    .dataframe tbody tr th {\n",
       "        vertical-align: top;\n",
       "    }\n",
       "</style>\n",
       "<table border=\"1\" class=\"dataframe\">\n",
       "  <thead>\n",
       "    <tr style=\"text-align: right;\">\n",
       "      <th></th>\n",
       "      <th>year_week</th>\n",
       "      <th>disease</th>\n",
       "      <th>cases</th>\n",
       "      <th>country</th>\n",
       "    </tr>\n",
       "  </thead>\n",
       "  <tbody>\n",
       "    <tr>\n",
       "      <th>0</th>\n",
       "      <td>2012-W09</td>\n",
       "      <td>Dengue Haemorrhagic Fever</td>\n",
       "      <td>0</td>\n",
       "      <td>Singapore</td>\n",
       "    </tr>\n",
       "    <tr>\n",
       "      <th>1</th>\n",
       "      <td>2012-W09</td>\n",
       "      <td>Malaria</td>\n",
       "      <td>0</td>\n",
       "      <td>Singapore</td>\n",
       "    </tr>\n",
       "    <tr>\n",
       "      <th>2</th>\n",
       "      <td>2012-W10</td>\n",
       "      <td>Dengue Fever</td>\n",
       "      <td>45</td>\n",
       "      <td>Singapore</td>\n",
       "    </tr>\n",
       "    <tr>\n",
       "      <th>3</th>\n",
       "      <td>2012-W10</td>\n",
       "      <td>Dengue Haemorrhagic Fever</td>\n",
       "      <td>1</td>\n",
       "      <td>Singapore</td>\n",
       "    </tr>\n",
       "    <tr>\n",
       "      <th>4</th>\n",
       "      <td>2012-W10</td>\n",
       "      <td>Malaria</td>\n",
       "      <td>4</td>\n",
       "      <td>Singapore</td>\n",
       "    </tr>\n",
       "  </tbody>\n",
       "</table>\n",
       "</div>"
      ],
      "text/plain": [
       "  year_week                    disease  cases    country\n",
       "0  2012-W09  Dengue Haemorrhagic Fever      0  Singapore\n",
       "1  2012-W09                    Malaria      0  Singapore\n",
       "2  2012-W10               Dengue Fever     45  Singapore\n",
       "3  2012-W10  Dengue Haemorrhagic Fever      1  Singapore\n",
       "4  2012-W10                    Malaria      4  Singapore"
      ]
     },
     "execution_count": 17,
     "metadata": {},
     "output_type": "execute_result"
    }
   ],
   "source": [
    "# Step 1: add a new column\n",
    "df[\"country\"] = \"Singapore\"\n",
    "df.head()"
   ]
  },
  {
   "cell_type": "code",
   "execution_count": 18,
   "metadata": {
    "collapsed": false
   },
   "outputs": [
    {
     "data": {
      "text/html": [
       "<div>\n",
       "<style>\n",
       "    .dataframe thead tr:only-child th {\n",
       "        text-align: right;\n",
       "    }\n",
       "\n",
       "    .dataframe thead th {\n",
       "        text-align: left;\n",
       "    }\n",
       "\n",
       "    .dataframe tbody tr th {\n",
       "        vertical-align: top;\n",
       "    }\n",
       "</style>\n",
       "<table border=\"1\" class=\"dataframe\">\n",
       "  <thead>\n",
       "    <tr style=\"text-align: right;\">\n",
       "      <th></th>\n",
       "      <th>year_week</th>\n",
       "      <th>disease</th>\n",
       "      <th>cases</th>\n",
       "      <th>country</th>\n",
       "      <th>year</th>\n",
       "      <th>week</th>\n",
       "    </tr>\n",
       "  </thead>\n",
       "  <tbody>\n",
       "    <tr>\n",
       "      <th>0</th>\n",
       "      <td>2012-W09</td>\n",
       "      <td>Dengue Haemorrhagic Fever</td>\n",
       "      <td>0</td>\n",
       "      <td>Singapore</td>\n",
       "      <td>2012</td>\n",
       "      <td>09</td>\n",
       "    </tr>\n",
       "    <tr>\n",
       "      <th>1</th>\n",
       "      <td>2012-W09</td>\n",
       "      <td>Malaria</td>\n",
       "      <td>0</td>\n",
       "      <td>Singapore</td>\n",
       "      <td>2012</td>\n",
       "      <td>09</td>\n",
       "    </tr>\n",
       "    <tr>\n",
       "      <th>2</th>\n",
       "      <td>2012-W10</td>\n",
       "      <td>Dengue Fever</td>\n",
       "      <td>45</td>\n",
       "      <td>Singapore</td>\n",
       "      <td>2012</td>\n",
       "      <td>10</td>\n",
       "    </tr>\n",
       "    <tr>\n",
       "      <th>3</th>\n",
       "      <td>2012-W10</td>\n",
       "      <td>Dengue Haemorrhagic Fever</td>\n",
       "      <td>1</td>\n",
       "      <td>Singapore</td>\n",
       "      <td>2012</td>\n",
       "      <td>10</td>\n",
       "    </tr>\n",
       "    <tr>\n",
       "      <th>4</th>\n",
       "      <td>2012-W10</td>\n",
       "      <td>Malaria</td>\n",
       "      <td>4</td>\n",
       "      <td>Singapore</td>\n",
       "      <td>2012</td>\n",
       "      <td>10</td>\n",
       "    </tr>\n",
       "  </tbody>\n",
       "</table>\n",
       "</div>"
      ],
      "text/plain": [
       "  year_week                    disease  cases    country  year week\n",
       "0  2012-W09  Dengue Haemorrhagic Fever      0  Singapore  2012   09\n",
       "1  2012-W09                    Malaria      0  Singapore  2012   09\n",
       "2  2012-W10               Dengue Fever     45  Singapore  2012   10\n",
       "3  2012-W10  Dengue Haemorrhagic Fever      1  Singapore  2012   10\n",
       "4  2012-W10                    Malaria      4  Singapore  2012   10"
      ]
     },
     "execution_count": 18,
     "metadata": {},
     "output_type": "execute_result"
    }
   ],
   "source": [
    "# Step 2: split year_week into two columns: year and week\n",
    "df[['year','week']] = df['year_week'].str.split('-W', expand=True) #try expand=false, show split on one string\n",
    "df.head()"
   ]
  },
  {
   "cell_type": "code",
   "execution_count": 19,
   "metadata": {
    "collapsed": false
   },
   "outputs": [
    {
     "data": {
      "text/html": [
       "<div>\n",
       "<style>\n",
       "    .dataframe thead tr:only-child th {\n",
       "        text-align: right;\n",
       "    }\n",
       "\n",
       "    .dataframe thead th {\n",
       "        text-align: left;\n",
       "    }\n",
       "\n",
       "    .dataframe tbody tr th {\n",
       "        vertical-align: top;\n",
       "    }\n",
       "</style>\n",
       "<table border=\"1\" class=\"dataframe\">\n",
       "  <thead>\n",
       "    <tr style=\"text-align: right;\">\n",
       "      <th></th>\n",
       "      <th>disease</th>\n",
       "      <th>cases</th>\n",
       "      <th>country</th>\n",
       "      <th>year</th>\n",
       "      <th>week</th>\n",
       "    </tr>\n",
       "  </thead>\n",
       "  <tbody>\n",
       "    <tr>\n",
       "      <th>0</th>\n",
       "      <td>Dengue Haemorrhagic Fever</td>\n",
       "      <td>0</td>\n",
       "      <td>Singapore</td>\n",
       "      <td>2012</td>\n",
       "      <td>09</td>\n",
       "    </tr>\n",
       "    <tr>\n",
       "      <th>1</th>\n",
       "      <td>Malaria</td>\n",
       "      <td>0</td>\n",
       "      <td>Singapore</td>\n",
       "      <td>2012</td>\n",
       "      <td>09</td>\n",
       "    </tr>\n",
       "    <tr>\n",
       "      <th>2</th>\n",
       "      <td>Dengue Fever</td>\n",
       "      <td>45</td>\n",
       "      <td>Singapore</td>\n",
       "      <td>2012</td>\n",
       "      <td>10</td>\n",
       "    </tr>\n",
       "    <tr>\n",
       "      <th>3</th>\n",
       "      <td>Dengue Haemorrhagic Fever</td>\n",
       "      <td>1</td>\n",
       "      <td>Singapore</td>\n",
       "      <td>2012</td>\n",
       "      <td>10</td>\n",
       "    </tr>\n",
       "    <tr>\n",
       "      <th>4</th>\n",
       "      <td>Malaria</td>\n",
       "      <td>4</td>\n",
       "      <td>Singapore</td>\n",
       "      <td>2012</td>\n",
       "      <td>10</td>\n",
       "    </tr>\n",
       "  </tbody>\n",
       "</table>\n",
       "</div>"
      ],
      "text/plain": [
       "                     disease  cases    country  year week\n",
       "0  Dengue Haemorrhagic Fever      0  Singapore  2012   09\n",
       "1                    Malaria      0  Singapore  2012   09\n",
       "2               Dengue Fever     45  Singapore  2012   10\n",
       "3  Dengue Haemorrhagic Fever      1  Singapore  2012   10\n",
       "4                    Malaria      4  Singapore  2012   10"
      ]
     },
     "execution_count": 19,
     "metadata": {},
     "output_type": "execute_result"
    }
   ],
   "source": [
    "# Step 3: remove year_week column\n",
    "df.drop('year_week', sdasd=1, inplace=True) # TODO\n",
    "df.head()"
   ]
  },
  {
   "cell_type": "code",
   "execution_count": 20,
   "metadata": {
    "collapsed": false
   },
   "outputs": [
    {
     "data": {
      "text/html": [
       "<div>\n",
       "<style>\n",
       "    .dataframe thead tr:only-child th {\n",
       "        text-align: right;\n",
       "    }\n",
       "\n",
       "    .dataframe thead th {\n",
       "        text-align: left;\n",
       "    }\n",
       "\n",
       "    .dataframe tbody tr th {\n",
       "        vertical-align: top;\n",
       "    }\n",
       "</style>\n",
       "<table border=\"1\" class=\"dataframe\">\n",
       "  <thead>\n",
       "    <tr style=\"text-align: right;\">\n",
       "      <th></th>\n",
       "      <th>disease</th>\n",
       "      <th>cases</th>\n",
       "      <th>country</th>\n",
       "      <th>year</th>\n",
       "      <th>week</th>\n",
       "    </tr>\n",
       "  </thead>\n",
       "  <tbody>\n",
       "    <tr>\n",
       "      <th>0</th>\n",
       "      <td>Dengue Haemorrhagic Fever</td>\n",
       "      <td>0</td>\n",
       "      <td>Singapore</td>\n",
       "      <td>2012</td>\n",
       "      <td>9</td>\n",
       "    </tr>\n",
       "    <tr>\n",
       "      <th>1</th>\n",
       "      <td>Malaria</td>\n",
       "      <td>0</td>\n",
       "      <td>Singapore</td>\n",
       "      <td>2012</td>\n",
       "      <td>9</td>\n",
       "    </tr>\n",
       "    <tr>\n",
       "      <th>2</th>\n",
       "      <td>Dengue Fever</td>\n",
       "      <td>45</td>\n",
       "      <td>Singapore</td>\n",
       "      <td>2012</td>\n",
       "      <td>10</td>\n",
       "    </tr>\n",
       "    <tr>\n",
       "      <th>3</th>\n",
       "      <td>Dengue Haemorrhagic Fever</td>\n",
       "      <td>1</td>\n",
       "      <td>Singapore</td>\n",
       "      <td>2012</td>\n",
       "      <td>10</td>\n",
       "    </tr>\n",
       "    <tr>\n",
       "      <th>4</th>\n",
       "      <td>Malaria</td>\n",
       "      <td>4</td>\n",
       "      <td>Singapore</td>\n",
       "      <td>2012</td>\n",
       "      <td>10</td>\n",
       "    </tr>\n",
       "  </tbody>\n",
       "</table>\n",
       "</div>"
      ],
      "text/plain": [
       "                     disease  cases    country  year week\n",
       "0  Dengue Haemorrhagic Fever      0  Singapore  2012    9\n",
       "1                    Malaria      0  Singapore  2012    9\n",
       "2               Dengue Fever     45  Singapore  2012   10\n",
       "3  Dengue Haemorrhagic Fever      1  Singapore  2012   10\n",
       "4                    Malaria      4  Singapore  2012   10"
      ]
     },
     "execution_count": 20,
     "metadata": {},
     "output_type": "execute_result"
    }
   ],
   "source": [
    "# Step 4: clean week column\n",
    "df['week'] = df['week'].apply(lambda x: x.lstrip(\"0\")) # show lstrip on one line\n",
    "df.head()"
   ]
  },
  {
   "cell_type": "code",
   "execution_count": 21,
   "metadata": {
    "collapsed": false
   },
   "outputs": [],
   "source": [
    "df.to_csv(\"./../../data/2_clean/SG_disease.csv\")"
   ]
  },
  {
   "cell_type": "code",
   "execution_count": null,
   "metadata": {
    "collapsed": true
   },
   "outputs": [],
   "source": []
  }
 ],
 "metadata": {
  "kernelspec": {
   "display_name": "Python 3",
   "language": "python",
   "name": "python3"
  },
  "language_info": {
   "codemirror_mode": {
    "name": "ipython",
    "version": 3
   },
   "file_extension": ".py",
   "mimetype": "text/x-python",
   "name": "python",
   "nbconvert_exporter": "python",
   "pygments_lexer": "ipython3",
   "version": "3.6.0"
  }
 },
 "nbformat": 4,
 "nbformat_minor": 2
}
