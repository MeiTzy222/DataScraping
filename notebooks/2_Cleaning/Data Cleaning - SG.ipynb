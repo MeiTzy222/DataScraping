{
 "cells": [
  {
   "cell_type": "markdown",
   "metadata": {
    "collapsed": true
   },
   "source": [
    "<h1><center> Our goal </center></h1>\n",
    "   "
   ]
  },
  {
   "cell_type": "markdown",
   "metadata": {},
   "source": [
    "|| country | year   | week | disease   | cases   |\n",
    "|------|------|------|------|------|------|\n",
    "|<b>0</b>|   Singapore  | 2015|1   |Dengue Fever|3    |\n",
    "|<b>1</b>|   Singapore  | 2015|2   |Malaria|0    |\n",
    "|...|   ...  | ...|...  |... |...   |"
   ]
  },
  {
   "cell_type": "markdown",
   "metadata": {
    "collapsed": true
   },
   "source": [
    "<h1><center> What we have (Singapore)</center></h1>"
   ]
  },
  {
   "cell_type": "code",
   "execution_count": 1,
   "metadata": {
    "collapsed": false,
    "scrolled": true
   },
   "outputs": [
    {
     "data": {
      "text/html": [
       "<div>\n",
       "<table border=\"1\" class=\"dataframe\">\n",
       "  <thead>\n",
       "    <tr style=\"text-align: right;\">\n",
       "      <th></th>\n",
       "      <th>year_week</th>\n",
       "      <th>disease</th>\n",
       "      <th>cases</th>\n",
       "    </tr>\n",
       "  </thead>\n",
       "  <tbody>\n",
       "    <tr>\n",
       "      <th>0</th>\n",
       "      <td>2012-W09</td>\n",
       "      <td>Dengue Haemorrhagic Fever</td>\n",
       "      <td>0</td>\n",
       "    </tr>\n",
       "    <tr>\n",
       "      <th>1</th>\n",
       "      <td>2012-W09</td>\n",
       "      <td>Malaria</td>\n",
       "      <td>0</td>\n",
       "    </tr>\n",
       "    <tr>\n",
       "      <th>2</th>\n",
       "      <td>2012-W10</td>\n",
       "      <td>Dengue Fever</td>\n",
       "      <td>45</td>\n",
       "    </tr>\n",
       "    <tr>\n",
       "      <th>3</th>\n",
       "      <td>2012-W10</td>\n",
       "      <td>Dengue Haemorrhagic Fever</td>\n",
       "      <td>1</td>\n",
       "    </tr>\n",
       "    <tr>\n",
       "      <th>4</th>\n",
       "      <td>2012-W10</td>\n",
       "      <td>Malaria</td>\n",
       "      <td>4</td>\n",
       "    </tr>\n",
       "  </tbody>\n",
       "</table>\n",
       "</div>"
      ],
      "text/plain": [
       "  year_week                    disease  cases\n",
       "0  2012-W09  Dengue Haemorrhagic Fever      0\n",
       "1  2012-W09                    Malaria      0\n",
       "2  2012-W10               Dengue Fever     45\n",
       "3  2012-W10  Dengue Haemorrhagic Fever      1\n",
       "4  2012-W10                    Malaria      4"
      ]
     },
     "execution_count": 1,
     "metadata": {},
     "output_type": "execute_result"
    }
   ],
   "source": [
    "import pandas as pd\n",
    "df = pd.read_csv(\"./../../data/2_clean/in/weekly-dengue-malaria.csv\", names=['year_week', 'disease', 'cases'], header=0)\n",
    "df.head()"
   ]
  },
  {
   "cell_type": "code",
   "execution_count": 2,
   "metadata": {
    "collapsed": true
   },
   "outputs": [],
   "source": [
    "# TODO: explain dataframe(table data structure) and pandas"
   ]
  },
  {
   "cell_type": "markdown",
   "metadata": {},
   "source": [
    "<h1><center>Step-by-step</center><h1>"
   ]
  },
  {
   "cell_type": "code",
   "execution_count": 3,
   "metadata": {
    "collapsed": false
   },
   "outputs": [
    {
     "data": {
      "text/html": [
       "<div>\n",
       "<table border=\"1\" class=\"dataframe\">\n",
       "  <thead>\n",
       "    <tr style=\"text-align: right;\">\n",
       "      <th></th>\n",
       "      <th>year_week</th>\n",
       "      <th>disease</th>\n",
       "      <th>cases</th>\n",
       "      <th>country</th>\n",
       "    </tr>\n",
       "  </thead>\n",
       "  <tbody>\n",
       "    <tr>\n",
       "      <th>0</th>\n",
       "      <td>2012-W09</td>\n",
       "      <td>Dengue Haemorrhagic Fever</td>\n",
       "      <td>0</td>\n",
       "      <td>Singapore</td>\n",
       "    </tr>\n",
       "    <tr>\n",
       "      <th>1</th>\n",
       "      <td>2012-W09</td>\n",
       "      <td>Malaria</td>\n",
       "      <td>0</td>\n",
       "      <td>Singapore</td>\n",
       "    </tr>\n",
       "    <tr>\n",
       "      <th>2</th>\n",
       "      <td>2012-W10</td>\n",
       "      <td>Dengue Fever</td>\n",
       "      <td>45</td>\n",
       "      <td>Singapore</td>\n",
       "    </tr>\n",
       "    <tr>\n",
       "      <th>3</th>\n",
       "      <td>2012-W10</td>\n",
       "      <td>Dengue Haemorrhagic Fever</td>\n",
       "      <td>1</td>\n",
       "      <td>Singapore</td>\n",
       "    </tr>\n",
       "    <tr>\n",
       "      <th>4</th>\n",
       "      <td>2012-W10</td>\n",
       "      <td>Malaria</td>\n",
       "      <td>4</td>\n",
       "      <td>Singapore</td>\n",
       "    </tr>\n",
       "  </tbody>\n",
       "</table>\n",
       "</div>"
      ],
      "text/plain": [
       "  year_week                    disease  cases    country\n",
       "0  2012-W09  Dengue Haemorrhagic Fever      0  Singapore\n",
       "1  2012-W09                    Malaria      0  Singapore\n",
       "2  2012-W10               Dengue Fever     45  Singapore\n",
       "3  2012-W10  Dengue Haemorrhagic Fever      1  Singapore\n",
       "4  2012-W10                    Malaria      4  Singapore"
      ]
     },
     "execution_count": 3,
     "metadata": {},
     "output_type": "execute_result"
    }
   ],
   "source": [
    "# Step 1: add new column\n",
    "df[\"country\"] = \"Singapore\"\n",
    "df.head()"
   ]
  },
  {
   "cell_type": "code",
   "execution_count": 4,
   "metadata": {
    "collapsed": false
   },
   "outputs": [
    {
     "data": {
      "text/html": [
       "<div>\n",
       "<table border=\"1\" class=\"dataframe\">\n",
       "  <thead>\n",
       "    <tr style=\"text-align: right;\">\n",
       "      <th></th>\n",
       "      <th>year_week</th>\n",
       "      <th>disease</th>\n",
       "      <th>cases</th>\n",
       "      <th>country</th>\n",
       "      <th>year</th>\n",
       "      <th>week</th>\n",
       "    </tr>\n",
       "  </thead>\n",
       "  <tbody>\n",
       "    <tr>\n",
       "      <th>0</th>\n",
       "      <td>2012-W09</td>\n",
       "      <td>Dengue Haemorrhagic Fever</td>\n",
       "      <td>0</td>\n",
       "      <td>Singapore</td>\n",
       "      <td>2012</td>\n",
       "      <td>09</td>\n",
       "    </tr>\n",
       "    <tr>\n",
       "      <th>1</th>\n",
       "      <td>2012-W09</td>\n",
       "      <td>Malaria</td>\n",
       "      <td>0</td>\n",
       "      <td>Singapore</td>\n",
       "      <td>2012</td>\n",
       "      <td>09</td>\n",
       "    </tr>\n",
       "    <tr>\n",
       "      <th>2</th>\n",
       "      <td>2012-W10</td>\n",
       "      <td>Dengue Fever</td>\n",
       "      <td>45</td>\n",
       "      <td>Singapore</td>\n",
       "      <td>2012</td>\n",
       "      <td>10</td>\n",
       "    </tr>\n",
       "    <tr>\n",
       "      <th>3</th>\n",
       "      <td>2012-W10</td>\n",
       "      <td>Dengue Haemorrhagic Fever</td>\n",
       "      <td>1</td>\n",
       "      <td>Singapore</td>\n",
       "      <td>2012</td>\n",
       "      <td>10</td>\n",
       "    </tr>\n",
       "    <tr>\n",
       "      <th>4</th>\n",
       "      <td>2012-W10</td>\n",
       "      <td>Malaria</td>\n",
       "      <td>4</td>\n",
       "      <td>Singapore</td>\n",
       "      <td>2012</td>\n",
       "      <td>10</td>\n",
       "    </tr>\n",
       "  </tbody>\n",
       "</table>\n",
       "</div>"
      ],
      "text/plain": [
       "  year_week                    disease  cases    country  year week\n",
       "0  2012-W09  Dengue Haemorrhagic Fever      0  Singapore  2012   09\n",
       "1  2012-W09                    Malaria      0  Singapore  2012   09\n",
       "2  2012-W10               Dengue Fever     45  Singapore  2012   10\n",
       "3  2012-W10  Dengue Haemorrhagic Fever      1  Singapore  2012   10\n",
       "4  2012-W10                    Malaria      4  Singapore  2012   10"
      ]
     },
     "execution_count": 4,
     "metadata": {},
     "output_type": "execute_result"
    }
   ],
   "source": [
    "# Step 2: split year_week into two columns: year and week\n",
    "df[['year','week']] = df['year_week'].str.split('-W',expand=True)\n",
    "df.head()"
   ]
  },
  {
   "cell_type": "code",
   "execution_count": 5,
   "metadata": {
    "collapsed": false
   },
   "outputs": [
    {
     "data": {
      "text/html": [
       "<div>\n",
       "<table border=\"1\" class=\"dataframe\">\n",
       "  <thead>\n",
       "    <tr style=\"text-align: right;\">\n",
       "      <th></th>\n",
       "      <th>disease</th>\n",
       "      <th>cases</th>\n",
       "      <th>country</th>\n",
       "      <th>year</th>\n",
       "      <th>week</th>\n",
       "    </tr>\n",
       "  </thead>\n",
       "  <tbody>\n",
       "    <tr>\n",
       "      <th>0</th>\n",
       "      <td>Dengue Haemorrhagic Fever</td>\n",
       "      <td>0</td>\n",
       "      <td>Singapore</td>\n",
       "      <td>2012</td>\n",
       "      <td>09</td>\n",
       "    </tr>\n",
       "    <tr>\n",
       "      <th>1</th>\n",
       "      <td>Malaria</td>\n",
       "      <td>0</td>\n",
       "      <td>Singapore</td>\n",
       "      <td>2012</td>\n",
       "      <td>09</td>\n",
       "    </tr>\n",
       "    <tr>\n",
       "      <th>2</th>\n",
       "      <td>Dengue Fever</td>\n",
       "      <td>45</td>\n",
       "      <td>Singapore</td>\n",
       "      <td>2012</td>\n",
       "      <td>10</td>\n",
       "    </tr>\n",
       "    <tr>\n",
       "      <th>3</th>\n",
       "      <td>Dengue Haemorrhagic Fever</td>\n",
       "      <td>1</td>\n",
       "      <td>Singapore</td>\n",
       "      <td>2012</td>\n",
       "      <td>10</td>\n",
       "    </tr>\n",
       "    <tr>\n",
       "      <th>4</th>\n",
       "      <td>Malaria</td>\n",
       "      <td>4</td>\n",
       "      <td>Singapore</td>\n",
       "      <td>2012</td>\n",
       "      <td>10</td>\n",
       "    </tr>\n",
       "  </tbody>\n",
       "</table>\n",
       "</div>"
      ],
      "text/plain": [
       "                     disease  cases    country  year week\n",
       "0  Dengue Haemorrhagic Fever      0  Singapore  2012   09\n",
       "1                    Malaria      0  Singapore  2012   09\n",
       "2               Dengue Fever     45  Singapore  2012   10\n",
       "3  Dengue Haemorrhagic Fever      1  Singapore  2012   10\n",
       "4                    Malaria      4  Singapore  2012   10"
      ]
     },
     "execution_count": 5,
     "metadata": {},
     "output_type": "execute_result"
    }
   ],
   "source": [
    "# Step 3: remove year_week column\n",
    "df.drop('year_week', 1, inplace=True)\n",
    "df.head()"
   ]
  },
  {
   "cell_type": "code",
   "execution_count": 6,
   "metadata": {
    "collapsed": false
   },
   "outputs": [
    {
     "data": {
      "text/html": [
       "<div>\n",
       "<table border=\"1\" class=\"dataframe\">\n",
       "  <thead>\n",
       "    <tr style=\"text-align: right;\">\n",
       "      <th></th>\n",
       "      <th>disease</th>\n",
       "      <th>cases</th>\n",
       "      <th>country</th>\n",
       "      <th>year</th>\n",
       "      <th>week</th>\n",
       "    </tr>\n",
       "  </thead>\n",
       "  <tbody>\n",
       "    <tr>\n",
       "      <th>0</th>\n",
       "      <td>Dengue Haemorrhagic Fever</td>\n",
       "      <td>0</td>\n",
       "      <td>Singapore</td>\n",
       "      <td>2012</td>\n",
       "      <td>9</td>\n",
       "    </tr>\n",
       "    <tr>\n",
       "      <th>1</th>\n",
       "      <td>Malaria</td>\n",
       "      <td>0</td>\n",
       "      <td>Singapore</td>\n",
       "      <td>2012</td>\n",
       "      <td>9</td>\n",
       "    </tr>\n",
       "    <tr>\n",
       "      <th>2</th>\n",
       "      <td>Dengue Fever</td>\n",
       "      <td>45</td>\n",
       "      <td>Singapore</td>\n",
       "      <td>2012</td>\n",
       "      <td>10</td>\n",
       "    </tr>\n",
       "    <tr>\n",
       "      <th>3</th>\n",
       "      <td>Dengue Haemorrhagic Fever</td>\n",
       "      <td>1</td>\n",
       "      <td>Singapore</td>\n",
       "      <td>2012</td>\n",
       "      <td>10</td>\n",
       "    </tr>\n",
       "    <tr>\n",
       "      <th>4</th>\n",
       "      <td>Malaria</td>\n",
       "      <td>4</td>\n",
       "      <td>Singapore</td>\n",
       "      <td>2012</td>\n",
       "      <td>10</td>\n",
       "    </tr>\n",
       "  </tbody>\n",
       "</table>\n",
       "</div>"
      ],
      "text/plain": [
       "                     disease  cases    country  year week\n",
       "0  Dengue Haemorrhagic Fever      0  Singapore  2012    9\n",
       "1                    Malaria      0  Singapore  2012    9\n",
       "2               Dengue Fever     45  Singapore  2012   10\n",
       "3  Dengue Haemorrhagic Fever      1  Singapore  2012   10\n",
       "4                    Malaria      4  Singapore  2012   10"
      ]
     },
     "execution_count": 6,
     "metadata": {},
     "output_type": "execute_result"
    }
   ],
   "source": [
    "# Step 4: clean week column\n",
    "df['week'] = df['week'].apply(lambda x: x.lstrip(\"0\"))\n",
    "df.head()"
   ]
  },
  {
   "cell_type": "code",
   "execution_count": 7,
   "metadata": {
    "collapsed": false
   },
   "outputs": [],
   "source": [
    "df.to_csv(\"./../../data/2_clean/SG_disease.csv\")"
   ]
  },
  {
   "cell_type": "code",
   "execution_count": null,
   "metadata": {
    "collapsed": true
   },
   "outputs": [],
   "source": []
  }
 ],
 "metadata": {
  "kernelspec": {
   "display_name": "Python 2",
   "language": "python",
   "name": "python2"
  },
  "language_info": {
   "codemirror_mode": {
    "name": "ipython",
    "version": 2
   },
   "file_extension": ".py",
   "mimetype": "text/x-python",
   "name": "python",
   "nbconvert_exporter": "python",
   "pygments_lexer": "ipython2",
   "version": "2.7.13"
  }
 },
 "nbformat": 4,
 "nbformat_minor": 2
}
