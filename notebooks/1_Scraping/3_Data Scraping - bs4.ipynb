{
 "cells": [
  {
   "cell_type": "markdown",
   "metadata": {
    "collapsed": true
   },
   "source": [
    "# BeautifulSoup\n",
    "Named after a Lewis Carroll poem in Alice's Adventures in Wonderland, Beautiful Soup is a Python library for pulling data out of HTML and XML files. It provides idiomatic ways of navigating, searching, and modifying the parse tree.\n",
    "#### To install:\n",
    "    pip install beautifulsoup4\n",
    "or  \n",
    "\n",
    "    pip3 install beautifulsoup4"
   ]
  },
  {
   "cell_type": "code",
   "execution_count": null,
   "metadata": {
    "collapsed": true
   },
   "outputs": [],
   "source": [
    "from bs4 import BeautifulSoup as bs"
   ]
  },
  {
   "cell_type": "code",
   "execution_count": null,
   "metadata": {
    "collapsed": true
   },
   "outputs": [],
   "source": [
    "import urllib.request as r"
   ]
  },
  {
   "cell_type": "markdown",
   "metadata": {
    "collapsed": true
   },
   "source": [
    "## NEA Dengue cases\n",
    "http://www.nea.gov.sg/public-health/dengue/dengue-cases  \n",
    "Using the browser inspect tool, find the number of reported cases in the html."
   ]
  },
  {
   "cell_type": "code",
   "execution_count": null,
   "metadata": {
    "collapsed": true
   },
   "outputs": [],
   "source": [
    "url = \"http://www.nea.gov.sg/public-health/dengue/dengue-cases\"\n",
    "opener = r.build_opener()\n",
    "opener.addheaders = [('User-agent', 'Mozilla/5.0')]\n",
    "html = opener.open(url)"
   ]
  },
  {
   "cell_type": "markdown",
   "metadata": {},
   "source": [
    "### Beautiful Soup object\n",
    "Generate a Beautiful Soup object:"
   ]
  },
  {
   "cell_type": "code",
   "execution_count": null,
   "metadata": {
    "collapsed": true
   },
   "outputs": [],
   "source": [
    "bsObj = bs(html.read(), \"html5lib\")"
   ]
  },
  {
   "cell_type": "markdown",
   "metadata": {},
   "source": [
    "### Retrieve tags\n",
    "Get document header:"
   ]
  },
  {
   "cell_type": "code",
   "execution_count": null,
   "metadata": {},
   "outputs": [],
   "source": [
    "bsObj.h1"
   ]
  },
  {
   "cell_type": "markdown",
   "metadata": {},
   "source": [
    "## find or findAll\n",
    "Html, and similarly xml, is like navigating a tree.  \n",
    "To find the information of weekly dengue cases, we need to find the children of the corresponding table.  "
   ]
  },
  {
   "cell_type": "code",
   "execution_count": null,
   "metadata": {},
   "outputs": [],
   "source": [
    "for table in bsObj.findAll(\"table\"):\n",
    "    if table.has_attr('id'):\n",
    "        print(table['id'])"
   ]
  },
  {
   "cell_type": "code",
   "execution_count": null,
   "metadata": {},
   "outputs": [],
   "source": [
    "bs_table = bsObj.find(\"table\", {\"id\":\"ContentPlaceHolderTitle_C008_TblEWeek\"})\n",
    "bs_table"
   ]
  },
  {
   "cell_type": "markdown",
   "metadata": {},
   "source": [
    "Collect data into a table:"
   ]
  },
  {
   "cell_type": "code",
   "execution_count": null,
   "metadata": {
    "collapsed": true
   },
   "outputs": [],
   "source": [
    "import pandas as pd"
   ]
  },
  {
   "cell_type": "code",
   "execution_count": null,
   "metadata": {
    "scrolled": true
   },
   "outputs": [],
   "source": [
    "tbl_list = []\n",
    "for row in bs_table.findAll(\"tr\"):\n",
    "    tmp_list = []\n",
    "    for item in row:\n",
    "        try:\n",
    "            string = item.get_text()\n",
    "            tmp_list.append(string)\n",
    "        except:\n",
    "            pass\n",
    "    tbl_list.append(tmp_list)\n",
    "    #df = df.append(tmp_list,ignore_index=True)\n",
    "df = pd.DataFrame(tbl_list)\n",
    "df"
   ]
  }
 ],
 "metadata": {
  "kernelspec": {
   "display_name": "Python 3",
   "language": "python",
   "name": "python3"
  },
  "language_info": {
   "codemirror_mode": {
    "name": "ipython",
    "version": 3
   },
   "file_extension": ".py",
   "mimetype": "text/x-python",
   "name": "python",
   "nbconvert_exporter": "python",
   "pygments_lexer": "ipython3",
   "version": "3.6.3"
  }
 },
 "nbformat": 4,
 "nbformat_minor": 2
}
