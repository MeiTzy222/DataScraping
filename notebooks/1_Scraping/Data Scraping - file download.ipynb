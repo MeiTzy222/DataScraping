{
 "cells": [
  {
   "cell_type": "markdown",
   "metadata": {},
   "source": [
    "# file download\n",
    "## data.gov.my - dengue data\n",
    "http://www.data.gov.my/data/en_US/dataset/jumlah-kes-kematian-akibat-wabak-denggi-yang-telah-dilaporkan-di-malaysia/resource/b2fea495-5a22-4677-b8e1-d7c25516d951"
   ]
  },
  {
   "cell_type": "code",
   "execution_count": 3,
   "metadata": {},
   "outputs": [],
   "source": [
    "# Paths\n",
    "OUT_PATH = '../../data/1_raw/MY_dengue.xlsx'\n",
    "URL = \"http://www.data.gov.my/data/dataset/63d41a34-f35c-4bd3-b380-c61bfb10949b/resource/bc0f93fa-f95b-4100-9d0f-a2d4c194b317/download/kesdenggi2010-2015.xlsx\""
   ]
  },
  {
   "cell_type": "code",
   "execution_count": 5,
   "metadata": {},
   "outputs": [],
   "source": [
    "import urllib.request as r"
   ]
  },
  {
   "cell_type": "code",
   "execution_count": 6,
   "metadata": {},
   "outputs": [
    {
     "data": {
      "text/plain": [
       "('../../data/1_raw/MY_dengue.xlsx', <http.client.HTTPMessage at 0x10f253d68>)"
      ]
     },
     "execution_count": 6,
     "metadata": {},
     "output_type": "execute_result"
    }
   ],
   "source": [
    "r.urlretrieve(URL, OUT_PATH)"
   ]
  },
  {
   "cell_type": "code",
   "execution_count": null,
   "metadata": {
    "collapsed": true
   },
   "outputs": [],
   "source": []
  }
 ],
 "metadata": {
  "kernelspec": {
   "display_name": "Python 3",
   "language": "python",
   "name": "python3"
  },
  "language_info": {
   "codemirror_mode": {
    "name": "ipython",
    "version": 3
   },
   "file_extension": ".py",
   "mimetype": "text/x-python",
   "name": "python",
   "nbconvert_exporter": "python",
   "pygments_lexer": "ipython3",
   "version": "3.6.1"
  }
 },
 "nbformat": 4,
 "nbformat_minor": 2
}
