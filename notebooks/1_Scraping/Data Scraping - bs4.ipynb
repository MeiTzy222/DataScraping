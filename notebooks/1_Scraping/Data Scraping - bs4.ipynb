{
 "cells": [
  {
   "cell_type": "markdown",
   "metadata": {
    "collapsed": true
   },
   "source": [
    "# BeautifulSoup\n",
    "Named after a Lewis Carroll poem in Alice's Adventures in Wonderland, Beautiful Soup is a Python library for pulling data out of HTML and XML files. It provides idiomatic ways of navigating, searching, and modifying the parse tree.\n",
    "#### To install:\n",
    "    pip install beautifulsoup4\n",
    "or  \n",
    "\n",
    "    pip3 install beautifulsoup4"
   ]
  },
  {
   "cell_type": "code",
   "execution_count": 1,
   "metadata": {
    "collapsed": true
   },
   "outputs": [],
   "source": [
    "from bs4 import BeautifulSoup as bs"
   ]
  },
  {
   "cell_type": "code",
   "execution_count": 2,
   "metadata": {
    "collapsed": true
   },
   "outputs": [],
   "source": [
    "import urllib.request as r"
   ]
  },
  {
   "cell_type": "markdown",
   "metadata": {
    "collapsed": true
   },
   "source": [
    "## NEA Dengue cases\n",
    "http://www.nea.gov.sg/public-health/dengue/dengue-cases  \n",
    "Using the browser inspect tool, find the number of reported cases in the html."
   ]
  },
  {
   "cell_type": "code",
   "execution_count": 4,
   "metadata": {},
   "outputs": [],
   "source": [
    "url = \"http://www.nea.gov.sg/public-health/dengue/dengue-cases\"\n",
    "opener = r.build_opener()\n",
    "opener.addheaders = [('User-agent', 'Mozilla/5.0')]\n",
    "html = opener.open(url)"
   ]
  },
  {
   "cell_type": "markdown",
   "metadata": {},
   "source": [
    "### Beautiful Soup object\n",
    "Generate a Beautiful Soup object:"
   ]
  },
  {
   "cell_type": "code",
   "execution_count": 5,
   "metadata": {
    "collapsed": true
   },
   "outputs": [],
   "source": [
    "bsObj = bs(html.read(), \"html5lib\")"
   ]
  },
  {
   "cell_type": "markdown",
   "metadata": {},
   "source": [
    "### Retrieve tags\n",
    "Get document header:"
   ]
  },
  {
   "cell_type": "code",
   "execution_count": 6,
   "metadata": {},
   "outputs": [
    {
     "data": {
      "text/plain": [
       "<h1 class=\"title\" id=\"top\">\n",
       "    Dengue Cases\n",
       "</h1>"
      ]
     },
     "execution_count": 6,
     "metadata": {},
     "output_type": "execute_result"
    }
   ],
   "source": [
    "bsObj.h1"
   ]
  },
  {
   "cell_type": "markdown",
   "metadata": {},
   "source": [
    "## find or findAll\n",
    "Html, and similarly xml, is like navigating a tree.  \n",
    "To find the information of weekly dengue cases, we need to find the children of the corresponding table.  "
   ]
  },
  {
   "cell_type": "code",
   "execution_count": 7,
   "metadata": {},
   "outputs": [
    {
     "name": "stdout",
     "output_type": "stream",
     "text": [
      "ContentPlaceHolderTitle_C008_TblReportedCases\n",
      "ContentPlaceHolderTitle_C008_TblEWeek\n"
     ]
    }
   ],
   "source": [
    "for table in bsObj.findAll(\"table\"):\n",
    "    if table.has_attr('id'):\n",
    "        print(table['id'])"
   ]
  },
  {
   "cell_type": "code",
   "execution_count": 10,
   "metadata": {},
   "outputs": [
    {
     "data": {
      "text/plain": [
       "<table id=\"ContentPlaceHolderTitle_C008_TblEWeek\">\n",
       "\t<tbody><tr>\n",
       "\t\t<td style=\"font-weight:bold;\">E-week 39<br/>(24-30Sep17)</td><td style=\"font-weight:bold;\">E-week 40<br/>(01-07Oct17)</td><td style=\"font-weight:bold;\">E-week 41<br/>(08-14Oct17)</td><td style=\"font-weight:bold;\">E-week 42<br/>(15-21Oct17)</td><td style=\"font-weight:bold;\">E-week 43<br/>(22-28Oct17)</td><td style=\"font-weight:bold;\">E-week 44<br/>(29Oct-04Nov17)</td><td style=\"font-weight:bold;\">E-week 45<br/>(05-07Nov17 at 3pm)</td>\n",
       "\t</tr><tr>\n",
       "\t\t<td>39</td><td>52</td><td>55</td><td>63</td><td>77</td><td>65</td><td>24</td>\n",
       "\t</tr>\n",
       "</tbody></table>"
      ]
     },
     "execution_count": 10,
     "metadata": {},
     "output_type": "execute_result"
    }
   ],
   "source": [
    "bs_table = bsObj.find(\"table\", {\"id\":\"ContentPlaceHolderTitle_C008_TblEWeek\"})\n",
    "bs_table"
   ]
  },
  {
   "cell_type": "markdown",
   "metadata": {},
   "source": [
    "Collect data into a table:"
   ]
  },
  {
   "cell_type": "code",
   "execution_count": 3,
   "metadata": {
    "collapsed": true
   },
   "outputs": [],
   "source": [
    "import pandas as pd"
   ]
  },
  {
   "cell_type": "code",
   "execution_count": 9,
   "metadata": {},
   "outputs": [
    {
     "data": {
      "text/html": [
       "<div>\n",
       "<style scoped>\n",
       "    .dataframe tbody tr th:only-of-type {\n",
       "        vertical-align: middle;\n",
       "    }\n",
       "\n",
       "    .dataframe tbody tr th {\n",
       "        vertical-align: top;\n",
       "    }\n",
       "\n",
       "    .dataframe thead th {\n",
       "        text-align: right;\n",
       "    }\n",
       "</style>\n",
       "<table border=\"1\" class=\"dataframe\">\n",
       "  <thead>\n",
       "    <tr style=\"text-align: right;\">\n",
       "      <th></th>\n",
       "      <th>0</th>\n",
       "      <th>1</th>\n",
       "      <th>2</th>\n",
       "      <th>3</th>\n",
       "      <th>4</th>\n",
       "      <th>5</th>\n",
       "      <th>6</th>\n",
       "    </tr>\n",
       "  </thead>\n",
       "  <tbody>\n",
       "    <tr>\n",
       "      <th>0</th>\n",
       "      <td>E-week 39(24-30Sep17)</td>\n",
       "      <td>E-week 40(01-07Oct17)</td>\n",
       "      <td>E-week 41(08-14Oct17)</td>\n",
       "      <td>E-week 42(15-21Oct17)</td>\n",
       "      <td>E-week 43(22-28Oct17)</td>\n",
       "      <td>E-week 44(29Oct-04Nov17)</td>\n",
       "      <td>E-week 45(05-07Nov17 at 3pm)</td>\n",
       "    </tr>\n",
       "    <tr>\n",
       "      <th>1</th>\n",
       "      <td>39</td>\n",
       "      <td>52</td>\n",
       "      <td>55</td>\n",
       "      <td>63</td>\n",
       "      <td>77</td>\n",
       "      <td>65</td>\n",
       "      <td>24</td>\n",
       "    </tr>\n",
       "  </tbody>\n",
       "</table>\n",
       "</div>"
      ],
      "text/plain": [
       "                       0                      1                      2  \\\n",
       "0  E-week 39(24-30Sep17)  E-week 40(01-07Oct17)  E-week 41(08-14Oct17)   \n",
       "1                     39                     52                     55   \n",
       "\n",
       "                       3                      4                         5  \\\n",
       "0  E-week 42(15-21Oct17)  E-week 43(22-28Oct17)  E-week 44(29Oct-04Nov17)   \n",
       "1                     63                     77                        65   \n",
       "\n",
       "                              6  \n",
       "0  E-week 45(05-07Nov17 at 3pm)  \n",
       "1                            24  "
      ]
     },
     "execution_count": 9,
     "metadata": {},
     "output_type": "execute_result"
    }
   ],
   "source": [
    "tbl_list = []\n",
    "for row in bs_table.findAll(\"tr\"):\n",
    "    tmp_list = []\n",
    "    for item in row:\n",
    "        try:\n",
    "            string = item.get_text()\n",
    "            tmp_list.append(string)\n",
    "        except:\n",
    "            pass\n",
    "    tbl_list.append(tmp_list)\n",
    "    #df = df.append(tmp_list,ignore_index=True)\n",
    "df = pd.DataFrame(tbl_list)\n",
    "df"
   ]
  }
 ],
 "metadata": {
  "kernelspec": {
   "display_name": "Python 3",
   "language": "python",
   "name": "python3"
  },
  "language_info": {
   "codemirror_mode": {
    "name": "ipython",
    "version": 3
   },
   "file_extension": ".py",
   "mimetype": "text/x-python",
   "name": "python",
   "nbconvert_exporter": "python",
   "pygments_lexer": "ipython3",
   "version": "3.6.1"
  }
 },
 "nbformat": 4,
 "nbformat_minor": 2
}
